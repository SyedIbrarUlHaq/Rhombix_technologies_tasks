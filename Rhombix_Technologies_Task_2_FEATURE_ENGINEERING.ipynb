{
  "nbformat": 4,
  "nbformat_minor": 0,
  "metadata": {
    "colab": {
      "provenance": []
    },
    "kernelspec": {
      "name": "python3",
      "display_name": "Python 3"
    },
    "language_info": {
      "name": "python"
    }
  },
  "cells": [
    {
      "cell_type": "code",
      "execution_count": 1,
      "metadata": {
        "colab": {
          "base_uri": "https://localhost:8080/"
        },
        "id": "3s2XiIDpdbMf",
        "outputId": "f363d5e1-1dd4-42e3-9cb0-0b1a455ecb8f"
      },
      "outputs": [
        {
          "output_type": "stream",
          "name": "stdout",
          "text": [
            "helo world\n"
          ]
        }
      ],
      "source": [
        "print('helo world')"
      ]
    },
    {
      "cell_type": "code",
      "source": [
        "import pandas as pd\n",
        "import numpy as np"
      ],
      "metadata": {
        "id": "aMJTOOmLeGJ2"
      },
      "execution_count": 3,
      "outputs": []
    },
    {
      "cell_type": "code",
      "source": [
        "# Load dataset\n",
        "data = pd.read_csv(\"/content/tested.csv\")\n",
        "print(data.head())"
      ],
      "metadata": {
        "colab": {
          "base_uri": "https://localhost:8080/"
        },
        "id": "Tj26Xx0ReHx5",
        "outputId": "fada001e-8119-4922-edcb-cac66a45ea93"
      },
      "execution_count": 5,
      "outputs": [
        {
          "output_type": "stream",
          "name": "stdout",
          "text": [
            "   PassengerId  Survived  Pclass  \\\n",
            "0          892         0       3   \n",
            "1          893         1       3   \n",
            "2          894         0       2   \n",
            "3          895         0       3   \n",
            "4          896         1       3   \n",
            "\n",
            "                                           Name     Sex   Age  SibSp  Parch  \\\n",
            "0                              Kelly, Mr. James    male  34.5      0      0   \n",
            "1              Wilkes, Mrs. James (Ellen Needs)  female  47.0      1      0   \n",
            "2                     Myles, Mr. Thomas Francis    male  62.0      0      0   \n",
            "3                              Wirz, Mr. Albert    male  27.0      0      0   \n",
            "4  Hirvonen, Mrs. Alexander (Helga E Lindqvist)  female  22.0      1      1   \n",
            "\n",
            "    Ticket     Fare Cabin Embarked  \n",
            "0   330911   7.8292   NaN        Q  \n",
            "1   363272   7.0000   NaN        S  \n",
            "2   240276   9.6875   NaN        Q  \n",
            "3   315154   8.6625   NaN        S  \n",
            "4  3101298  12.2875   NaN        S  \n"
          ]
        }
      ]
    },
    {
      "cell_type": "code",
      "source": [
        "# Feature 1: Family size\n",
        "data['FamilySize'] = data['SibSp'] + data['Parch'] + 1\n",
        "\n",
        "# Feature 2: IsAlone (binary feature)\n",
        "data['IsAlone'] = (data['FamilySize'] == 1).astype(int)\n",
        "\n",
        "# Feature 3: Fare per person\n",
        "data['FarePerPerson'] = data['Fare'] / data['FamilySize']\n",
        "data['FarePerPerson'] = data['FarePerPerson'].fillna(data['FarePerPerson'].median())\n",
        "\n",
        "# Feature 4: Age groups (binned feature)\n",
        "data['AgeGroup'] = pd.cut(data['Age'], bins=[0, 12, 18, 50, 80], labels=['Child', 'Teen', 'Adult', 'Senior'])\n",
        "\n",
        "# Feature 5: Title extraction (if 'Name' exists)\n",
        "if 'Name' in data.columns:\n",
        "    data['Title'] = data['Name'].str.extract(' ([A-Za-z]+)\\.', expand=False)\n",
        "\n",
        "# Feature 6: Mean survival rate per Pclass\n",
        "data['Pclass_Survival_Rate'] = data.groupby('Pclass')['Survived'].transform('mean')\n",
        "\n",
        "# Drop redundant columns if necessary\n",
        "columns_to_drop = ['Name', 'Ticket', 'Cabin']\n",
        "for column in columns_to_drop:\n",
        "    if column in data.columns:\n",
        "        data.drop(column, axis=1, inplace=True)\n",
        "\n",
        "# Display the processed dataset\n",
        "print(data.head())"
      ],
      "metadata": {
        "colab": {
          "base_uri": "https://localhost:8080/"
        },
        "id": "GRaAuj6DeWxa",
        "outputId": "b49b8528-e82c-4db7-fe30-5d2532f36421"
      },
      "execution_count": 6,
      "outputs": [
        {
          "output_type": "stream",
          "name": "stdout",
          "text": [
            "   PassengerId  Survived  Pclass     Sex   Age  SibSp  Parch     Fare  \\\n",
            "0          892         0       3    male  34.5      0      0   7.8292   \n",
            "1          893         1       3  female  47.0      1      0   7.0000   \n",
            "2          894         0       2    male  62.0      0      0   9.6875   \n",
            "3          895         0       3    male  27.0      0      0   8.6625   \n",
            "4          896         1       3  female  22.0      1      1  12.2875   \n",
            "\n",
            "  Embarked  FamilySize  IsAlone  FarePerPerson AgeGroup Title  \\\n",
            "0        Q           1        1       7.829200    Adult    Mr   \n",
            "1        S           2        0       3.500000    Adult   Mrs   \n",
            "2        Q           1        1       9.687500   Senior    Mr   \n",
            "3        S           1        1       8.662500    Adult    Mr   \n",
            "4        S           3        0       4.095833    Adult   Mrs   \n",
            "\n",
            "   Pclass_Survival_Rate  \n",
            "0              0.330275  \n",
            "1              0.330275  \n",
            "2              0.322581  \n",
            "3              0.330275  \n",
            "4              0.330275  \n"
          ]
        }
      ]
    }
  ]
}